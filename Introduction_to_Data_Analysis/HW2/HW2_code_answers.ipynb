{
 "cells": [
  {
   "cell_type": "markdown",
   "metadata": {},
   "source": [
    "# Part 1"
   ]
  },
  {
   "cell_type": "markdown",
   "metadata": {},
   "source": [
    "## Q1"
   ]
  },
  {
   "cell_type": "code",
   "execution_count": 4,
   "metadata": {},
   "outputs": [
    {
     "name": "stdout",
     "output_type": "stream",
     "text": [
      "<class 'pandas.core.frame.DataFrame'>\n",
      "RangeIndex: 23967 entries, 0 to 23966\n",
      "Data columns (total 7 columns):\n",
      " #   Column      Non-Null Count  Dtype  \n",
      "---  ------      --------------  -----  \n",
      " 0   date        23408 non-null  object \n",
      " 1   type        23933 non-null  object \n",
      " 2   operator    23963 non-null  object \n",
      " 3   fatalities  20029 non-null  float64\n",
      " 4   country     23129 non-null  object \n",
      " 5   cat         23967 non-null  object \n",
      " 6   year        23906 non-null  float64\n",
      "dtypes: float64(2), object(5)\n",
      "memory usage: 1.3+ MB\n"
     ]
    }
   ],
   "source": [
    "import numpy as np\n",
    "import pandas as pd\n",
    "from matplotlib import pyplot as plt\n",
    "import matplotlib.style as style\n",
    "import seaborn as sns\n",
    "df = pd.read_csv('aviation_accident_data.csv')\n",
    "df.info()"
   ]
  },
  {
   "cell_type": "markdown",
   "metadata": {},
   "source": [
    "there is 23967 entries in the dataframe"
   ]
  },
  {
   "cell_type": "markdown",
   "metadata": {},
   "source": [
    "## 2"
   ]
  },
  {
   "cell_type": "code",
   "execution_count": 2,
   "metadata": {},
   "outputs": [
    {
     "data": {
      "text/plain": [
       "date           559\n",
       "type            34\n",
       "operator         4\n",
       "fatalities    3938\n",
       "country        838\n",
       "cat              0\n",
       "year            61\n",
       "dtype: int64"
      ]
     },
     "execution_count": 2,
     "metadata": {},
     "output_type": "execute_result"
    }
   ],
   "source": [
    "df.isna().sum()"
   ]
  },
  {
   "cell_type": "markdown",
   "metadata": {},
   "source": [
    "  in \"date\" column is 559 missing values\n",
    "\n",
    "  in \"type\" column is 34 missing values\n",
    "  \n",
    "  in \"operator\" column is 4 missing values\n",
    "  \n",
    "  in \"fatalities\" column is 3938 missing values\n",
    "  \n",
    "  in \"country \" column is 838 missing values\n",
    "  \n",
    "  in \"cat\" column is 0 missing values\n",
    "  \n",
    "  in \"year\" column is 61 missing values        "
   ]
  },
  {
   "cell_type": "markdown",
   "metadata": {},
   "source": [
    "## 3"
   ]
  },
  {
   "cell_type": "code",
   "execution_count": 3,
   "metadata": {},
   "outputs": [
    {
     "data": {
      "text/plain": [
       "type\n",
       "Curtiss C-46A            564\n",
       "Douglas C-47 (DC-3)      669\n",
       "Douglas C-47A (DC-3)    1916\n",
       "Douglas C-47B (DC-3)     592\n",
       "dtype: int64"
      ]
     },
     "execution_count": 3,
     "metadata": {},
     "output_type": "execute_result"
    }
   ],
   "source": [
    "type_count = df.groupby('type').size()\n",
    "type_count[type_count >= 500]"
   ]
  },
  {
   "cell_type": "markdown",
   "metadata": {},
   "source": [
    "the types that have more then 500 accidents is Curtiss C-46A, Douglas C-47 (DC-3), Douglas C-47A (DC-3), Douglas C-47B (DC-3)"
   ]
  },
  {
   "cell_type": "markdown",
   "metadata": {},
   "source": [
    "## 4"
   ]
  },
  {
   "cell_type": "code",
   "execution_count": 4,
   "metadata": {},
   "outputs": [
    {
     "data": {
      "text/plain": [
       "0.18262611090249092"
      ]
     },
     "execution_count": 4,
     "metadata": {},
     "output_type": "execute_result"
    }
   ],
   "source": [
    "country_count = df.groupby('country').size()\n",
    "total_count = len(df)\n",
    "country_count['USA']/total_count"
   ]
  },
  {
   "cell_type": "markdown",
   "metadata": {},
   "source": [
    "18.26% of the accidents occurred in the United States"
   ]
  },
  {
   "cell_type": "markdown",
   "metadata": {},
   "source": [
    "## 5"
   ]
  },
  {
   "cell_type": "code",
   "execution_count": 5,
   "metadata": {},
   "outputs": [
    {
     "data": {
      "text/plain": [
       "cat\n",
       "A1     8.338233\n",
       "A2     0.062728\n",
       "C1     9.273478\n",
       "C2     0.642857\n",
       "H1    85.523810\n",
       "H2     0.172710\n",
       "I1     0.000000\n",
       "I2     0.000000\n",
       "O1     0.079533\n",
       "O2     0.031250\n",
       "U1     0.000000\n",
       "Name: fatalities, dtype: float64"
      ]
     },
     "execution_count": 5,
     "metadata": {},
     "output_type": "execute_result"
    }
   ],
   "source": [
    "avg_fatalities_per_cat = df.groupby('cat')['fatalities'].mean()\n",
    "avg_fatalities_per_cat"
   ]
  },
  {
   "cell_type": "markdown",
   "metadata": {},
   "source": [
    "The most fatal accident type, on average, is H1"
   ]
  },
  {
   "cell_type": "markdown",
   "metadata": {},
   "source": [
    "## 6"
   ]
  },
  {
   "cell_type": "code",
   "execution_count": 12,
   "metadata": {},
   "outputs": [
    {
     "data": {
      "text/plain": [
       "Text(0.5, 1.0, 'Distribution of fatalities in accidents by country in dealyest airplaens')"
      ]
     },
     "execution_count": 12,
     "metadata": {},
     "output_type": "execute_result"
    },
    {
     "data": {
      "text/plain": [
       "<Figure size 720x432 with 0 Axes>"
      ]
     },
     "metadata": {},
     "output_type": "display_data"
    },
    {
     "data": {
      "image/png": "[encoded data removed]",
      "text/plain": [
       "<Figure size 360x360 with 1 Axes>"
      ]
     },
     "metadata": {
      "needs_background": "light"
     },
     "output_type": "display_data"
    }
   ],
   "source": [
    "top_countries = df['country'].value_counts().head(5)\n",
    "filtered = df[(df['country'].isin(top_countries.index)) & (df['type'].isin(type_count[type_count >= 500].index))]\n",
    "plt.figure(figsize=(10, 6))\n",
    "sns.catplot(x=\"country\", y=\"fatalities\", kind=\"box\", data=filtered)\n",
    "plt.xlabel(\"Country\")\n",
    "plt.ylabel(\"Number of fatalities\")\n",
    "plt.title(\"Distribution of fatalities in accidents by country in dealyest airplaens\")"
   ]
  },
  {
   "cell_type": "markdown",
   "metadata": {},
   "source": [
    "rusia is the country with the highest median of fatalities in the deadliest airplanes (over 500 dead per type)"
   ]
  },
  {
   "cell_type": "markdown",
   "metadata": {},
   "source": [
    "## 7"
   ]
  },
  {
   "cell_type": "code",
   "execution_count": 7,
   "metadata": {},
   "outputs": [
    {
     "data": {
      "text/plain": [
       "<seaborn.axisgrid.FacetGrid at 0x2ae78558e20>"
      ]
     },
     "execution_count": 7,
     "metadata": {},
     "output_type": "execute_result"
    },
    {
     "data": {
      "image/png": "[encoded data removed]",
      "text/plain": [
       "<Figure size 1080x720 with 1 Axes>"
      ]
     },
     "metadata": {
      "needs_background": "light"
     },
     "output_type": "display_data"
    }
   ],
   "source": [
    "accidents_per_year = df.groupby(['year']).size()\n",
    "accidents_per_year\n",
    "\n",
    "\n",
    "sns_object = sns.relplot(y=accidents_per_year.values, x=accidents_per_year.index, marker='o')\n",
    "sns_object.fig.set_size_inches(15,10) # set figure size\n",
    "sns_object.fig.suptitle('Number of accidents per year') # set figure title\n",
    "sns_object.set(xlabel='Year', ylabel='Number of accidents') # set axis labels"
   ]
  },
  {
   "cell_type": "markdown",
   "metadata": {},
   "source": [
    "It can be concluded that there is no correspondence between the number of accidents each year and the year"
   ]
  },
  {
   "cell_type": "markdown",
   "metadata": {},
   "source": [
    "## 8"
   ]
  },
  {
   "cell_type": "code",
   "execution_count": 8,
   "metadata": {},
   "outputs": [
    {
     "data": {
      "text/plain": [
       "type\n",
       "Douglas C-47A (DC-3)         1916\n",
       "Douglas C-47 (DC-3)           669\n",
       "Douglas C-47B (DC-3)          592\n",
       "Curtiss C-46A                 564\n",
       "Junkers Ju-52/3m              471\n",
       "Antonov An-2R                 391\n",
       "Curtiss C-46D                 344\n",
       "Douglas Dakota III (DC-3)     262\n",
       "DHC-6 Twin Otter 300          258\n",
       "Cessna 208B Grand Caravan     247\n",
       "dtype: int64"
      ]
     },
     "execution_count": 8,
     "metadata": {},
     "output_type": "execute_result"
    }
   ],
   "source": [
    "types = df.groupby('type').size().sort_values(ascending=False).head(10)\n",
    "types"
   ]
  },
  {
   "cell_type": "code",
   "execution_count": 9,
   "metadata": {},
   "outputs": [
    {
     "data": {
      "image/png": "[encoded data removed]",
      "text/plain": [
       "<Figure size 720x504 with 1 Axes>"
      ]
     },
     "metadata": {
      "needs_background": "light"
     },
     "output_type": "display_data"
    }
   ],
   "source": [
    "dangerous_types = df.groupby('type').size().sort_values(ascending=False).head(10)\n",
    "bars = sns.barplot(x=dangerous_types.index, y=dangerous_types.values)\n",
    "bars.set_xticklabels(bars.get_xticklabels(), rotation=45) # Rotate the x label ticks text by 45 degrees\n",
    "bars.set_title('top 10 most dangerous aircrafts') # set figure title\n",
    "bars.set(xlabel='aircarft type', ylabel='number of accidents') # ylim=[0, 1800]) # set y label\n",
    "bars.figure.set_size_inches(10,7)"
   ]
  },
  {
   "cell_type": "markdown",
   "metadata": {},
   "source": [
    "## 9"
   ]
  },
  {
   "cell_type": "code",
   "execution_count": 10,
   "metadata": {},
   "outputs": [
    {
     "data": {
      "text/plain": [
       "[Text(0, 0.5, 'number of accidents'), Text(0.5, 0, 'company name')]"
      ]
     },
     "execution_count": 10,
     "metadata": {},
     "output_type": "execute_result"
    },
    {
     "data": {
      "image/png": "[encoded data removed]",
      "text/plain": [
       "<Figure size 432x288 with 1 Axes>"
      ]
     },
     "metadata": {
      "needs_background": "light"
     },
     "output_type": "display_data"
    }
   ],
   "source": [
    "dangerous_company = df[df['type'].isin(dangerous_types.index)]['operator'].unique()\n",
    "dangerous_df = df[df['operator'].isin(dangerous_company)]\n",
    "operator_total_accidents = dangerous_df.groupby('operator').size().nlargest(3)\n",
    "\n",
    "bars = sns.barplot(x=operator_total_accidents.index, y=operator_total_accidents.values)\n",
    "bars.set_title('top 3 most dangerous companies')\n",
    "bars.set(xlabel='company name', ylabel='number of accidents') "
   ]
  },
  {
   "cell_type": "markdown",
   "metadata": {},
   "source": [
    "## 10"
   ]
  },
  {
   "cell_type": "code",
   "execution_count": 11,
   "metadata": {},
   "outputs": [
    {
     "data": {
      "text/plain": [
       "<seaborn.axisgrid.FacetGrid at 0x2ae78662760>"
      ]
     },
     "execution_count": 11,
     "metadata": {},
     "output_type": "execute_result"
    },
    {
     "data": {
      "image/png": "[encoded data removed]",
      "text/plain": [
       "<Figure size 1080x720 with 1 Axes>"
      ]
     },
     "metadata": {
      "needs_background": "light"
     },
     "output_type": "display_data"
    }
   ],
   "source": [
    "top_3_dangerous_types = type_count.nlargest(3)\n",
    "dangerous_types_df = df[df['type'].isin(top_3_dangerous_types.index)]\n",
    "accidents_per_year = dangerous_types_df.groupby('year').size()\n",
    "\n",
    "\n",
    "sns_object = sns.relplot(y=accidents_per_year.values, x=accidents_per_year.index, marker='o')\n",
    "sns_object.fig.set_size_inches(15,10) # set figure size\n",
    "sns_object.fig.suptitle('Number of Accidents of the Three Most Dangerous Planes Over the Years') # set figure title\n",
    "sns_object.set(xlabel='Year', ylabel='Number of accidents') # set axis labels"
   ]
  },
  {
   "cell_type": "markdown",
   "metadata": {},
   "source": [
    "א. מספר התאונות של המטוסים המסוכנים פוחת במשך השנים. סיבה אחת יכולה להיות כי המטוסים המסוכנים יצאו משימוש מכיוון שהם מסוכנים סיבה נוספת יכולה להיות כי לאחר תאונות רבות שהתרחשו במטוסים אלו, היה הרבה מידע להפיק ממנו לקחים שאפשר לחדד את נהלי הטיסה והתחזוקה שהוביל לירדיה במספר התאונות.\n",
    "\n",
    "ב. קיימות תצפיות חריגות בשנים 1943-1945, ייתכן כי מטוסים אלו היו בשימוש רב במלחמת העולם השניה ובמהלך המלחמה הופלו/התרסקו מטוסים רבים ולכן התאונות הרבות בשנים אלו"
   ]
  },
  {
   "cell_type": "markdown",
   "metadata": {},
   "source": [
    " "
   ]
  },
  {
   "cell_type": "markdown",
   "metadata": {},
   "source": [
    " "
   ]
  },
  {
   "cell_type": "markdown",
   "metadata": {},
   "source": [
    " "
   ]
  },
  {
   "cell_type": "markdown",
   "metadata": {},
   "source": [
    "# part 2"
   ]
  },
  {
   "cell_type": "code",
   "execution_count": 23,
   "metadata": {},
   "outputs": [],
   "source": [
    "np.set_printoptions(threshold=6, formatter={'float': lambda x: \"{0:0.2f}\".format(x)})"
   ]
  },
  {
   "cell_type": "markdown",
   "metadata": {},
   "source": [
    "## 1"
   ]
  },
  {
   "cell_type": "code",
   "execution_count": 24,
   "metadata": {
    "scrolled": true
   },
   "outputs": [
    {
     "data": {
      "text/plain": [
       "<matplotlib.axes._subplots.AxesSubplot at 0x2ae788b7880>"
      ]
     },
     "execution_count": 24,
     "metadata": {},
     "output_type": "execute_result"
    },
    {
     "data": {
      "image/png": "[encoded data removed]",
      "text/plain": [
       "<Figure size 432x288 with 1 Axes>"
      ]
     },
     "metadata": {
      "needs_background": "light"
     },
     "output_type": "display_data"
    }
   ],
   "source": [
    "mean_hight_cm = 175\n",
    "SD_hight_cm = 6\n",
    "n = 40 \n",
    "\n",
    "hight_samples = np.random.normal(mean_hight_cm, SD_hight_cm, n)\n",
    "sns.histplot(data = hight_samples, binwidth =1)\n"
   ]
  },
  {
   "cell_type": "markdown",
   "metadata": {},
   "source": [
    "a) the distribution that we have here is a probability distribution, because it is based on probability, and not on observed data like empirical distributions."
   ]
  },
  {
   "cell_type": "markdown",
   "metadata": {},
   "source": [
    "b) the heights mean that we got in this sample is: 175.92351807701115"
   ]
  },
  {
   "cell_type": "code",
   "execution_count": 26,
   "metadata": {},
   "outputs": [
    {
     "data": {
      "text/plain": [
       "175.92351807701115"
      ]
     },
     "execution_count": 26,
     "metadata": {},
     "output_type": "execute_result"
    }
   ],
   "source": [
    "mean_hight_cm = np.mean(hight_samples)\n",
    "mean_hight_cm"
   ]
  },
  {
   "cell_type": "markdown",
   "metadata": {},
   "source": [
    "c) for this sample and the bin size that was chosen, the graphs skewness right-skewed, and its modality is multimodal.\n",
    "if the sample size was larger, lest say n=1000, will expect the skewness to be symmetrical and the modality to be unimodal.\n"
   ]
  },
  {
   "cell_type": "markdown",
   "metadata": {},
   "source": [
    "## 2\n",
    "\n",
    "a)\tH0 will be - the mean height of the puplsion that the sample was taken from is 175cm. H1 will be - the mean height of the puplsion that the sample was taken from is lower than 175cm. \n",
    "\n",
    "\n",
    "b)\t we will check our hypothesis by simulating the original sample whit the calculated height mean and SD=6 2000 times:\n",
    "\n"
   ]
  },
  {
   "cell_type": "code",
   "execution_count": 6,
   "metadata": {},
   "outputs": [],
   "source": [
    "# sample one value\n",
    "def sample_mean_hight(mean_hight_cm):\n",
    "    hight_sample = np.random.normal(mean_hight_cm, SD_hight_cm, 40)\n",
    "    return np.mean(hight_sample)"
   ]
  },
  {
   "cell_type": "code",
   "execution_count": 27,
   "metadata": {},
   "outputs": [
    {
     "data": {
      "image/png": "[encoded data removed]",
      "text/plain": [
       "<Figure size 360x360 with 1 Axes>"
      ]
     },
     "metadata": {
      "needs_background": "light"
     },
     "output_type": "display_data"
    }
   ],
   "source": [
    "# run multiple simulations\n",
    "num_repetitions = 2000\n",
    "samples = np.empty(num_repetitions) # collection array\n",
    "for i in range(num_repetitions):\n",
    "    samples[i] = sample_mean_hight(mean_hight_cm)\n",
    "\n",
    "    \n",
    "# plot the empirical distribution of the statistic\n",
    "ax = sns.displot(samples, stat=\"density\", binwidth =0.5)\n",
    "ax.set(xlabel='hight mean', ylabel='proportion in samples');"
   ]
  },
  {
   "cell_type": "code",
   "execution_count": 28,
   "metadata": {},
   "outputs": [
    {
     "data": {
      "image/png": "[encoded data removed]",
      "text/plain": [
       "<Figure size 360x360 with 1 Axes>"
      ]
     },
     "metadata": {
      "needs_background": "light"
     },
     "output_type": "display_data"
    }
   ],
   "source": [
    "# plot the empirical distribution of the statistic\n",
    "ax = sns.displot(samples, stat=\"density\",binwidth =0.5)\n",
    "ax.set(xlabel='hight mean', ylabel='proportion in samples');\n",
    "\n",
    "# Add a red point on the plot marking our data\n",
    "plt.scatter(175, 0, marker='.', s=200, color='red', clip_on=False)\n",
    "plt.show()"
   ]
  },
  {
   "cell_type": "markdown",
   "metadata": {},
   "source": [
    "c) the p-value that we get is:"
   ]
  },
  {
   "cell_type": "code",
   "execution_count": 29,
   "metadata": {},
   "outputs": [
    {
     "name": "stdout",
     "output_type": "stream",
     "text": [
      "The p-value is 0.165\n"
     ]
    }
   ],
   "source": [
    "count_fewer_than_175 = np.count_nonzero(samples < 175)\n",
    "print ('The p-value is', count_fewer_than_175/len(samples))"
   ]
  },
  {
   "cell_type": "markdown",
   "metadata": {},
   "source": [
    "d) for both the level of significance is 0.1 and 0.01 we can see that the p-value is over the requested level of significance, and we can not reject H0."
   ]
  },
  {
   "cell_type": "markdown",
   "metadata": {},
   "source": [
    "## 3"
   ]
  },
  {
   "cell_type": "code",
   "execution_count": 2,
   "metadata": {},
   "outputs": [],
   "source": [
    "def get_p_value_heights(sample_heights,n,mean_0):\n",
    "    mean_sample_heights = np.mean(sample_heights)\n",
    "    \n",
    "    # run multiple simulations\n",
    "    num_repetitions = 2000\n",
    "    samples = np.empty(num_repetitions) # collection array\n",
    "    for i in range(num_repetitions):\n",
    "        samples[i] = sample_mean_hight(mean_sample_heights)\n",
    "    \n",
    "    count_fewer_than_mean_0 = np.count_nonzero(samples < mean_0)\n",
    "    p_value = (count_fewer_than_mean_0/len(samples))\n",
    "    return p_value"
   ]
  },
  {
   "cell_type": "markdown",
   "metadata": {},
   "source": [
    "## 4"
   ]
  },
  {
   "cell_type": "code",
   "execution_count": 7,
   "metadata": {},
   "outputs": [],
   "source": [
    "SD_hight_cm = 6\n",
    "n = 40\n",
    "mean_hieght = 175\n",
    "\n",
    "num_repetitions = 5000\n",
    "p_values = np.empty(num_repetitions) # collection array\n",
    "for i in range(num_repetitions):\n",
    "    hight_samples = np.random.normal(mean_hieght, SD_hight_cm, n)\n",
    "    mean_0 = hight_samples.mean()\n",
    "    p_value = get_p_value_heights(hight_samples, n, mean_0)\n",
    "    p_values[i] = p_value\n"
   ]
  },
  {
   "cell_type": "markdown",
   "metadata": {},
   "source": [
    "a) we will expect to see a sort of normal distribution around 0.5. we expect to see this because that over a lot of simulations, we think that most of the samples mean height will be very close to 175cm, because that is the population average. so, after simulating the sample over 2000 times for etch sample, we expect to get a p-value that represent the population average."
   ]
  },
  {
   "cell_type": "markdown",
   "metadata": {},
   "source": [
    "b)"
   ]
  },
  {
   "cell_type": "code",
   "execution_count": 36,
   "metadata": {},
   "outputs": [
    {
     "data": {
      "image/png": "[encoded data removed]",
      "text/plain": [
       "<Figure size 360x360 with 1 Axes>"
      ]
     },
     "metadata": {
      "needs_background": "light"
     },
     "output_type": "display_data"
    }
   ],
   "source": [
    "# plot the empirical distribution of the p_values\n",
    "ax = sns.displot(p_values, stat=\"density\", binwidth =0.001)\n",
    "ax.set(xlabel='p_value', ylabel='proportion of all p_values');"
   ]
  },
  {
   "cell_type": "markdown",
   "metadata": {},
   "source": [
    "c) the distribution is unimodal and center-skewed. it is as what we origanly thoght."
   ]
  },
  {
   "cell_type": "code",
   "execution_count": 10,
   "metadata": {},
   "outputs": [
    {
     "name": "stdout",
     "output_type": "stream",
     "text": [
      "The p-value is 0.0\n"
     ]
    }
   ],
   "source": [
    "count_fewer_than_005 = np.count_nonzero(p_values < 0.05)\n",
    "print ('The p-value is', count_fewer_than_005/len(p_values))"
   ]
  },
  {
   "cell_type": "markdown",
   "metadata": {},
   "source": [
    "d) there are 0% value that are less than 0.05. that is because that the p-value counts the anomaly in the data, and after many samples and simulations, we will get pretty accurate data."
   ]
  },
  {
   "cell_type": "markdown",
   "metadata": {},
   "source": [
    "## 5"
   ]
  },
  {
   "cell_type": "markdown",
   "metadata": {},
   "source": [
    "even if we will change the sample size to 200, we will get a similar resulted, because in both instances we repeat the test 5000 times"
   ]
  },
  {
   "cell_type": "code",
   "execution_count": 18,
   "metadata": {},
   "outputs": [
    {
     "data": {
      "image/png": "[encoded data removed]",
      "text/plain": [
       "<Figure size 360x360 with 1 Axes>"
      ]
     },
     "metadata": {
      "needs_background": "light"
     },
     "output_type": "display_data"
    }
   ],
   "source": [
    "SD_hight_cm = 6\n",
    "n = 200\n",
    "mean_hieght = 175\n",
    "\n",
    "num_repetitions = 5000\n",
    "p_values_2 = np.empty(num_repetitions) # collection array\n",
    "for i in range(num_repetitions):\n",
    "    hight_samples = np.random.normal(mean_hieght, SD_hight_cm, 200)\n",
    "    mean_0 = hight_samples.mean()\n",
    "    p_value = get_p_value_heights(hight_samples, 200, mean_0)\n",
    "    p_values_2[i] = p_value\n",
    "    \n",
    "# plot the empirical distribution of the p_values\n",
    "ax = sns.displot(p_values_2, stat=\"density\", binwidth =0.001)\n",
    "ax.set(xlabel='p_value', ylabel='proportion of all p_values');"
   ]
  },
  {
   "cell_type": "code",
   "execution_count": 16,
   "metadata": {},
   "outputs": [
    {
     "data": {
      "text/plain": [
       "array([0.508 , 0.4975, 0.5065, ..., 0.4945, 0.504 , 0.481 ])"
      ]
     },
     "execution_count": 16,
     "metadata": {},
     "output_type": "execute_result"
    }
   ],
   "source": [
    "p_values_2"
   ]
  },
  {
   "cell_type": "markdown",
   "metadata": {},
   "source": [
    " "
   ]
  },
  {
   "cell_type": "markdown",
   "metadata": {},
   "source": [
    " "
   ]
  }
 ],
 "metadata": {
  "kernelspec": {
   "display_name": "Python 3 (ipykernel)",
   "language": "python",
   "name": "python3"
  },
  "language_info": {
   "codemirror_mode": {
    "name": "ipython",
    "version": 3
   },
   "file_extension": ".py",
   "mimetype": "text/x-python",
   "name": "python",
   "nbconvert_exporter": "python",
   "pygments_lexer": "ipython3",
   "version": "3.9.16"
  }
 },
 "nbformat": 4,
 "nbformat_minor": 4
}
