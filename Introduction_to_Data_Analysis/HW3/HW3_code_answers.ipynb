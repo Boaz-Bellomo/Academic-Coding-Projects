{
 "cells": [
  {
   "cell_type": "code",
   "execution_count": 1,
   "metadata": {},
   "outputs": [],
   "source": [
    "import pandas as pd\n",
    "import numpy as np\n",
    "import matplotlib.pyplot as plt\n",
    "import seaborn as sns\n",
    "df = pd.read_csv('ds_salaries.csv')"
   ]
  },
  {
   "cell_type": "markdown",
   "metadata": {},
   "source": [
    "# 1"
   ]
  },
  {
   "cell_type": "markdown",
   "metadata": {},
   "source": [
    "a) H0 - the percentage of works in the data sector that works from home is 35%.\n",
    "H1 - the percentage of works in the data sector that works from home is less 35%"
   ]
  },
  {
   "cell_type": "markdown",
   "metadata": {},
   "source": [
    "b) "
   ]
  },
  {
   "cell_type": "code",
   "execution_count": 2,
   "metadata": {},
   "outputs": [
    {
     "data": {
      "text/plain": [
       "0.3246006389776358"
      ]
     },
     "execution_count": 2,
     "metadata": {},
     "output_type": "execute_result"
    }
   ],
   "source": [
    "where_work_col = df.remote_ratio\n",
    "test_statistic = np.count_nonzero(where_work_col == 'fully remote') / np.count_nonzero(where_work_col)\n",
    "test_statistic"
   ]
  },
  {
   "cell_type": "markdown",
   "metadata": {},
   "source": [
    "the test satistic is the  percentage of remote workers in the sample"
   ]
  },
  {
   "cell_type": "markdown",
   "metadata": {},
   "source": [
    "c) "
   ]
  },
  {
   "cell_type": "code",
   "execution_count": 3,
   "metadata": {},
   "outputs": [
    {
     "data": {
      "text/plain": [
       "<matplotlib.legend.Legend at 0x239544f06d0>"
      ]
     },
     "execution_count": 3,
     "metadata": {},
     "output_type": "execute_result"
    },
    {
     "data": {
      "image/png": "[encoded data removed]",
      "text/plain": [
       "<Figure size 1000x700 with 1 Axes>"
      ]
     },
     "metadata": {},
     "output_type": "display_data"
    }
   ],
   "source": [
    "sample_size = sample_size=df.shape[0]\n",
    "where_work = ['hybrid', 'fully remote']\n",
    "prob = [0.65, 0.35]\n",
    "\n",
    "# sample one value\n",
    "def sample_remote_ratio():\n",
    "    sample_workes = np.random.choice(where_work, p=prob, size=sample_size)\n",
    "    num_remote_workers = np.count_nonzero(sample_workes == 'fully remote')\n",
    "    return num_remote_workers/sample_size\n",
    "\n",
    "# run multiple simulations\n",
    "num_repetitions = 20000\n",
    "work_remote_precenges = np.array([sample_remote_ratio() for i in range(num_repetitions)])\n",
    "\n",
    "# visualize\n",
    "facetgrid_obj = sns.displot(work_remote_precenges, bins=np.unique(work_remote_precenges), stat='probability') # Defining the bins\n",
    "facetgrid_obj.fig.set_size_inches(10, 7)\n",
    "facetgrid_obj.set(title='', xlabel=f'work from home precenge', ylabel='Proportion in simulations')\n",
    "\n",
    "#Add a red point on the plot marking our data\n",
    "facetgrid_obj.axes[0, 0].scatter(test_statistic, 0, s=150, color='red')  # draw observed value\n",
    "facetgrid_obj.axes[0, 0].legend(['Test statistic'])\n"
   ]
  },
  {
   "cell_type": "code",
   "execution_count": 4,
   "metadata": {},
   "outputs": [
    {
     "name": "stdout",
     "output_type": "stream",
     "text": [
      "The p-value is 0.0185\n"
     ]
    }
   ],
   "source": [
    "count_fewer_than_035 = np.count_nonzero(work_remote_precenges <= test_statistic)\n",
    "print ('The p-value is', count_fewer_than_035/len(work_remote_precenges))"
   ]
  },
  {
   "cell_type": "markdown",
   "metadata": {},
   "source": [
    "d) we reject H0 because that the p value is under 0.05."
   ]
  },
  {
   "cell_type": "markdown",
   "metadata": {},
   "source": [
    "## 2"
   ]
  },
  {
   "cell_type": "markdown",
   "metadata": {},
   "source": [
    "a) H0 - Data Scientists earn the same in avrege as Data Engineers. \n",
    "H1 - Data Scientists do not earn the same in avrege as Data Engineers."
   ]
  },
  {
   "cell_type": "markdown",
   "metadata": {},
   "source": [
    "b) the test satistic is the difference in the avrege salry of aData Scientist and a Data Engineer in the sample"
   ]
  },
  {
   "cell_type": "code",
   "execution_count": 5,
   "metadata": {},
   "outputs": [
    {
     "data": {
      "text/plain": [
       "12686.679782082327"
      ]
     },
     "execution_count": 5,
     "metadata": {},
     "output_type": "execute_result"
    }
   ],
   "source": [
    "grpby_var = df.groupby('job_title')\n",
    "avgs = grpby_var['salary_in_usd'].mean()\n",
    "test_satistic = avgs.loc['Data Scientist'] - avgs.loc['Data Engineer'] \n",
    "test_satistic"
   ]
  },
  {
   "cell_type": "markdown",
   "metadata": {},
   "source": [
    "c)"
   ]
  },
  {
   "cell_type": "code",
   "execution_count": 6,
   "metadata": {},
   "outputs": [],
   "source": [
    "# function that returns the difference in averages\n",
    "\n",
    "def diff_of_avgs(df, column_name, grouping_var):\n",
    "    grpby_var = df.groupby(grouping_var)\n",
    "    avgs = grpby_var[column_name].mean()\n",
    "    return avgs.loc['Data Scientist'] - avgs.loc['Data Engineer']  \n",
    "\n",
    "\n",
    "def bootstrap_mean_difference(original_sample, column_name, grouping_var, num_replications):\n",
    "    original_sample_size = original_sample.shape[0]\n",
    "    original_sample_cols_of_interest = original_sample[[column_name, grouping_var]]\n",
    "    bstrap_mean_diffs = np.empty(num_replications)\n",
    "    for i in range(num_replications):\n",
    "        bootstrap_sample = original_sample_cols_of_interest.sample(original_sample_size, replace=True)\n",
    "        resampled_mean_diff = diff_of_avgs(bootstrap_sample, column_name, grouping_var)\n",
    "        bstrap_mean_diffs[i] = resampled_mean_diff\n",
    "    return bstrap_mean_diffs\n",
    "\n",
    "# run the bootstrap procedure\n",
    "bstrap_diffs = bootstrap_mean_difference(df, 'salary_in_usd', 'job_title',  5000)"
   ]
  },
  {
   "cell_type": "markdown",
   "metadata": {
    "scrolled": true
   },
   "source": [
    "using the original satmple we created 5000 samples in the same size and we checkd what is the salary difference between data scientists and data engineers"
   ]
  },
  {
   "cell_type": "markdown",
   "metadata": {},
   "source": [
    "d)"
   ]
  },
  {
   "cell_type": "code",
   "execution_count": 7,
   "metadata": {},
   "outputs": [
    {
     "name": "stdout",
     "output_type": "stream",
     "text": [
      "The 99% boostsrap confidence interval for difference between population means [3056.8022289907385, 22631.155905551597]\n"
     ]
    },
    {
     "data": {
      "image/png": "[encoded data removed]",
      "text/plain": [
       "<Figure size 500x500 with 1 Axes>"
      ]
     },
     "metadata": {},
     "output_type": "display_data"
    }
   ],
   "source": [
    "# Get the endpoints of the 95% confidence interval\n",
    "left_end = np.percentile(bstrap_diffs, 0.5, method='higher')\n",
    "right_end = np.percentile(bstrap_diffs, 99.5, method='higher')\n",
    "print('The 99% boostsrap confidence interval for difference between population means', [left_end,right_end])\n",
    "\n",
    "# visualize results\n",
    "ax = sns.displot(bstrap_diffs)\n",
    "plt.hlines(y=0, xmin=left_end, xmax=right_end, colors='orange', linestyles='solid', lw=7, clip_on=False);"
   ]
  },
  {
   "cell_type": "code",
   "execution_count": 8,
   "metadata": {},
   "outputs": [
    {
     "name": "stdout",
     "output_type": "stream",
     "text": [
      "The 95% boostsrap confidence interval for difference between population means [4942.6024189646705, 20328.38869733794]\n"
     ]
    },
    {
     "data": {
      "image/png": "[encoded data removed]",
      "text/plain": [
       "<Figure size 500x500 with 1 Axes>"
      ]
     },
     "metadata": {},
     "output_type": "display_data"
    }
   ],
   "source": [
    "# Get the endpoints of the 95% confidence interval\n",
    "left_end = np.percentile(bstrap_diffs, 2.5, method='higher')\n",
    "right_end = np.percentile(bstrap_diffs, 97.5, method='higher')\n",
    "print('The 95% boostsrap confidence interval for difference between population means', [left_end,right_end])\n",
    "\n",
    "# visualize results\n",
    "ax = sns.displot(bstrap_diffs)\n",
    "plt.hlines(y=0, xmin=left_end, xmax=right_end, colors='orange', linestyles='solid', lw=7, clip_on=False);"
   ]
  },
  {
   "cell_type": "markdown",
   "metadata": {},
   "source": [
    "e) for both level of significance 0.95 and 0.99 we rejact H0 because the value 0 that represents equal salary averages is out of the confidence interval"
   ]
  },
  {
   "cell_type": "markdown",
   "metadata": {},
   "source": [
    "## 3"
   ]
  },
  {
   "cell_type": "code",
   "execution_count": 9,
   "metadata": {},
   "outputs": [
    {
     "name": "stdout",
     "output_type": "stream",
     "text": [
      "The 95% boostsrap confidence interval for medium size company mean salary [153706.5256837892, 159333.0]\n"
     ]
    },
    {
     "data": {
      "image/png": "[encoded data removed]",
      "text/plain": [
       "<Figure size 500x500 with 1 Axes>"
      ]
     },
     "metadata": {},
     "output_type": "display_data"
    }
   ],
   "source": [
    "def avgs(df, column_name, grouping_var):\n",
    "    grpby_var = df.groupby(grouping_var)\n",
    "    means = grpby_var[column_name].mean()\n",
    "    return means.loc[\"M\"]\n",
    "\n",
    "def bootstrap_mean(original_sample, column_name, grouping_var, num_replications):\n",
    "    original_sample_size = original_sample.shape[0] # we need to replicate with the same sample size\n",
    "    original_sample_cols_of_interest = original_sample[[column_name, grouping_var]]\n",
    "    bstrap_mean_diffs = np.empty(num_replications)\n",
    "    for i in range(num_replications):\n",
    "        bootstrap_sample = original_sample_cols_of_interest.sample(original_sample_size, replace=True) # note WITH REPLACEMENT!\n",
    "        resampled_mean_diff = avgs(bootstrap_sample, column_name, grouping_var)\n",
    "        bstrap_mean_diffs[i] = resampled_mean_diff\n",
    "    return bstrap_mean_diffs\n",
    "\n",
    "bstrap_diffs = bootstrap_mean(df, 'salary_in_usd', 'company_size',  5000)\n",
    "\n",
    "# Get the endpoints of the 95% confidence interval\n",
    "left_end = np.percentile(bstrap_diffs, 2.5, method='higher')\n",
    "right_end = np.percentile(bstrap_diffs, 97.5, method='higher')\n",
    "print('The 95% boostsrap confidence interval for medium size company mean salary', [left_end,right_end])\n",
    "\n",
    "# visualize results\n",
    "ax = sns.displot(bstrap_diffs)\n",
    "plt.hlines(y=0, xmin=left_end, xmax=right_end, colors='orange', linestyles='solid', lw=7, clip_on=False);"
   ]
  },
  {
   "cell_type": "markdown",
   "metadata": {},
   "source": [
    "using the original satmple we created 5000 samples in the same size and we checkd what is the mean salary of a medium size companies workers"
   ]
  },
  {
   "cell_type": "markdown",
   "metadata": {},
   "source": [
    "## 4"
   ]
  },
  {
   "cell_type": "markdown",
   "metadata": {},
   "source": [
    "a)"
   ]
  },
  {
   "cell_type": "code",
   "execution_count": 10,
   "metadata": {},
   "outputs": [
    {
     "data": {
      "text/plain": [
       "96"
      ]
     },
     "execution_count": 10,
     "metadata": {},
     "output_type": "execute_result"
    }
   ],
   "source": [
    "filtered_df = df[(df['remote_ratio']=='hybrid')]\n",
    "real_median = df[\"salary_in_usd\"].median()\n",
    "\n",
    "def bootstrap_median(original_sample, column_name, num_replications):\n",
    "    original_sample_size = original_sample.shape[0]\n",
    "    original_sample_var_of_interest = original_sample[[column_name]]\n",
    "    bstrap_medians = np.empty(num_replications)\n",
    "    for i in range(num_replications):\n",
    "        bootstrap_sample = original_sample_var_of_interest.sample(n=original_sample_size, replace=True)\n",
    "        resampled_median = bootstrap_sample.quantile(0.5, interpolation='higher')\n",
    "        bstrap_medians[i] = resampled_median\n",
    "    return bstrap_medians\n",
    "\n",
    "\n",
    "lest_ends = np.empty(100)\n",
    "right_ends = np.empty(100)\n",
    "median_in_interval = []\n",
    "\n",
    "for i in range(100):  \n",
    "    sample = filtered_df.sample(n=150)\n",
    "    bstrap= bootstrap_median(sample, 'salary_in_usd', 5000)\n",
    "    left = np.percentile(bstrap, 2.5, method='higher')\n",
    "    lest_ends[i] = left\n",
    "    right = np.percentile(bstrap, 97.5, method='higher')\n",
    "    right_ends[i] = right\n",
    "    \n",
    "    median_in_interval.append((real_median<right)and(real_median>left))\n",
    "\n",
    "in_interval = np.count_nonzero(median_in_interval)\n",
    "in_interval"
   ]
  },
  {
   "cell_type": "markdown",
   "metadata": {},
   "source": [
    "as we can see from the counter value and the visualizsion, the worker gets it right 96 times out of a 100."
   ]
  },
  {
   "cell_type": "markdown",
   "metadata": {},
   "source": [
    "b) No. When taking a sample from a different population, the sample does not hold the original population attributes. Therefore, when “duplicating” the sample using the bootstrap method, we will not be able to imitate the original population characteristics."
   ]
  },
  {
   "cell_type": "markdown",
   "metadata": {},
   "source": [
    "c)"
   ]
  },
  {
   "cell_type": "code",
   "execution_count": 12,
   "metadata": {},
   "outputs": [
    {
     "data": {
      "text/plain": [
       "83"
      ]
     },
     "execution_count": 12,
     "metadata": {},
     "output_type": "execute_result"
    }
   ],
   "source": [
    "filtered_df=df[(df['remote_ratio']=='hybrid')]\n",
    "filtered_df.head()\n",
    "    \n",
    "def bootstrap_Q1(original_sample,column_name,num_replications):\n",
    "    original_sample_size=original_sample.shape[0]\n",
    "    original_sample_var_of_interest=original_sample[[column_name]]\n",
    "    bstrap_quantiles=np.empty(num_replications)\n",
    "    for i in range(num_replications):\n",
    "        bootstrap_sample=original_sample_var_of_interest.sample(n=original_sample_size,replace=True)\n",
    "        resampled_quantile=bootstrap_sample.quantile(0.25,interpolation='higher')\n",
    "        bstrap_quantiles[i]=resampled_quantile\n",
    "    return bstrap_quantiles\n",
    "\n",
    "\n",
    "real_Q1=df['salary_in_usd'].quantile(0.25,interpolation='higher')\n",
    "left_ends=[]\n",
    "right_ends=[]\n",
    "Q1_in_interval=[]\n",
    "\n",
    "for i in range(100):\n",
    "    hybrid_sample=filtered_df.sample(150,replace=False)\n",
    "    quantiles=bootstrap_Q1(hybrid_sample,'salary_in_usd',5000)\n",
    "    \n",
    "    left=np.percentile(quantiles,2.5,method='higher')\n",
    "    left_ends.append(left)\n",
    "    right=np.percentile(quantiles,97.5,method='higher')\n",
    "    right_ends.append(right)\n",
    "\n",
    "    Q1_in_interval.append((real_Q1<right)and(real_Q1>left))\n",
    "    \n",
    "in_interval = np.count_nonzero(Q1_in_interval)\n",
    "in_interval"
   ]
  },
  {
   "cell_type": "markdown",
   "metadata": {},
   "source": [
    "as we can see, only 83 of the bootstraps that we did have cachet the real Q1 value, so we can conclude that this methos will not work for this type of data, because it is less than the 95% level of significant.\n",
    "from the senior in b), it will nor work for the same rezone."
   ]
  }
 ],
 "metadata": {
  "kernelspec": {
   "display_name": "Python 3 (ipykernel)",
   "language": "python",
   "name": "python3"
  },
  "language_info": {
   "codemirror_mode": {
    "name": "ipython",
    "version": 3
   },
   "file_extension": ".py",
   "mimetype": "text/x-python",
   "name": "python",
   "nbconvert_exporter": "python",
   "pygments_lexer": "ipython3",
   "version": "3.9.16"
  }
 },
 "nbformat": 4,
 "nbformat_minor": 4
}
